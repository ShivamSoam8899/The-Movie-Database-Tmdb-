{
 "cells": [
  {
   "cell_type": "markdown",
   "id": "5c8ac211",
   "metadata": {},
   "source": [
    "# THE MOVIE DATABASE - TMDB"
   ]
  },
  {
   "cell_type": "markdown",
   "id": "64005463",
   "metadata": {},
   "source": [
    "### Find the 'id' of the movie \"Andhadhun\" using TMDb API"
   ]
  },
  {
   "cell_type": "code",
   "execution_count": 161,
   "id": "510037ef",
   "metadata": {},
   "outputs": [
    {
     "name": "stdout",
     "output_type": "stream",
     "text": [
      "534780\n"
     ]
    }
   ],
   "source": [
    "import requests \n",
    "response = requests.get('https://api.themoviedb.org/3/search/movie',params={'api_key':'8248d1dcf0b2a70ee482f3aa969aa1fd' , 'query':'Andhadhun'})\n",
    "py_data = response.json()\n",
    "print(py_data['results'][0]['id'])"
   ]
  },
  {
   "cell_type": "markdown",
   "id": "00f82423",
   "metadata": {},
   "source": [
    "### Fetch the company id company 'Marvel Studios' using TMDb. Print the id."
   ]
  },
  {
   "cell_type": "code",
   "execution_count": 155,
   "id": "4fcfd563",
   "metadata": {},
   "outputs": [
    {
     "name": "stdout",
     "output_type": "stream",
     "text": [
      "420\n"
     ]
    }
   ],
   "source": [
    "import requests \n",
    "header = {'Accept':'application/json'}\n",
    "response = requests.get('https://api.themoviedb.org/3/search/company',params={'api_key':'8248d1dcf0b2a70ee482f3aa969aa1fd' , 'query':'Marvel Studios'},headers=header)\n",
    "py_data = response.json()\n",
    "for result in py_data['results']:\n",
    "    if result.get('name')=='Marvel Studios':\n",
    "        print(result.get('id'))"
   ]
  },
  {
   "cell_type": "markdown",
   "id": "c7f88c09",
   "metadata": {},
   "source": [
    "### Find the vote count and vote average of the movie \"3 Idiots\" using the TMDb API"
   ]
  },
  {
   "cell_type": "code",
   "execution_count": 156,
   "id": "bdefdbd5",
   "metadata": {},
   "outputs": [
    {
     "name": "stdout",
     "output_type": "stream",
     "text": [
      "1956 8\n"
     ]
    }
   ],
   "source": [
    "import requests \n",
    "api_key = '8248d1dcf0b2a70ee482f3aa969aa1fd'\n",
    "header = {'Accept':'application/json'}\n",
    "params = {'api_key':api_key , 'query':'3 Idiots'}\n",
    "api_url ='https://api.themoviedb.org/3/search/movie'\n",
    "response = requests.get(api_url,params=params,headers=header)\n",
    "py_data = response.json()\n",
    "for result in py_data['results']:\n",
    "    if result.get('original_title')=='3 Idiots':\n",
    "        print(result.get('vote_count'),result.get('vote_average'))"
   ]
  },
  {
   "cell_type": "markdown",
   "id": "972c6dfe",
   "metadata": {},
   "source": [
    "### Fetch the names of top 5 similar movies to 'Inception' from the TMDb API."
   ]
  },
  {
   "cell_type": "code",
   "execution_count": 157,
   "id": "73fdb4de",
   "metadata": {},
   "outputs": [
    {
     "name": "stdout",
     "output_type": "stream",
     "text": [
      "Inception\n",
      "Beneath the Surface\n",
      "Amina\n",
      "The Wrath of God\n",
      "Abandoned\n"
     ]
    }
   ],
   "source": [
    "import requests \n",
    "api_key = '8248d1dcf0b2a70ee482f3aa969aa1fd'\n",
    "header = {'Accept':'application/json'}\n",
    "params = {'api_key':api_key , 'query':'Inception'}\n",
    "api_url ='https://api.themoviedb.org/3/search/movie'\n",
    "response = requests.get(api_url,params=params,headers=header)\n",
    "py_data = response.json()\n",
    "for result in py_data['results']:\n",
    "    if result.get('title')=='Inception':\n",
    "        movie_id = result.get('id')\n",
    "url_similar_movie ='https://api.themoviedb.org/3'\n",
    "params2 = {'api_key':api_key ,'limit':1}\n",
    "similar_movies = requests.get(url_similar_movie+\"/movie/\" +str(movie_id) + \"/similar\",params=params2,headers=header)\n",
    "py_data_sm = similar_movies.json()\n",
    "for i in range(0,5):\n",
    "    print(py_data_sm['results'][i]['title'])"
   ]
  },
  {
   "cell_type": "markdown",
   "id": "25ac238f",
   "metadata": {},
   "source": [
    "### Fetch the top rated english movies in the US region using the TMDb API. From the result, print the first 10 movies which have original language as english. Also print their genres.\n",
    "##### Note: Do not use the search/movies API for finding genres."
   ]
  },
  {
   "cell_type": "code",
   "execution_count": 158,
   "id": "5320f350",
   "metadata": {},
   "outputs": [
    {
     "name": "stdout",
     "output_type": "stream",
     "text": [
      "The Godfather - Drama, Crime, \n",
      "The Shawshank Redemption - Drama, Crime, \n",
      "The Godfather Part II - Drama, Crime, \n",
      "Guillermo del Toro's Pinocchio - Animation, Fantasy, Drama, \n",
      "Schindler's List - Drama, History, War, \n",
      "12 Angry Men - Drama, \n",
      "The Green Mile - Fantasy, Drama, Crime, \n",
      "The Dark Knight - Drama, Action, Crime, Thriller, \n",
      "Gabriel's Inferno - Romance, \n",
      "Gabriel's Inferno: Part II - Romance, \n"
     ]
    }
   ],
   "source": [
    "import requests \n",
    "api_key = '8248d1dcf0b2a70ee482f3aa969aa1fd'\n",
    "header = {'Accept':'application/json'}\n",
    "params = {'api_key':api_key,'region' : 'US'}\n",
    "api_url ='https://api.themoviedb.org/3'\n",
    "top_rated = '/movie/top_rated'\n",
    "response = requests.get(api_url+top_rated, headers = header , params = params)\n",
    "py_top_rated = response.json()\n",
    "top_rated_id = []\n",
    "i=0\n",
    "while len(top_rated_id)<10 or i<10:\n",
    "    if py_top_rated['results'][i]['original_language']==\"en\":\n",
    "        top_rated_id.append(py_top_rated['results'][i]['id'])\n",
    "    i=i+1   \n",
    "params2 = {'api_key':api_key}\n",
    "for i in range(0,10):\n",
    "    movie_url = api_url + \"/movie/\"+str(top_rated_id[i])\n",
    "    r = requests.get(movie_url,headers = header , params = params2)\n",
    "    res = r.json()\n",
    "    print(res.get('title'),\"-\",end=\" \")\n",
    "    for i in res.get('genres'):\n",
    "        print(i['name'],end=\", \")\n",
    "    print()"
   ]
  },
  {
   "cell_type": "markdown",
   "id": "df0ff90d",
   "metadata": {},
   "source": [
    "### Find the name and birthplace of the present most popular person according to TMDb API."
   ]
  },
  {
   "cell_type": "code",
   "execution_count": 159,
   "id": "6d8cfa79",
   "metadata": {},
   "outputs": [
    {
     "name": "stdout",
     "output_type": "stream",
     "text": [
      "1911865\n",
      "Hunter Doohan - Fort Smith, Arkansas, USA\n"
     ]
    }
   ],
   "source": [
    "import requests \n",
    "api_key = '8248d1dcf0b2a70ee482f3aa969aa1fd'\n",
    "header = {'Accept':'application/json'}\n",
    "params = {'api_key':api_key}\n",
    "api_url ='https://api.themoviedb.org/3'\n",
    "popular_person_url = '/person/popular'\n",
    "response = requests.get(api_url+popular_person_url,params=params,headers=header)\n",
    "py_data = response.json()\n",
    "person_id = py_data['results'][0]['id']\n",
    "person_url = '/person/'\n",
    "resp = requests.get(api_url+person_url+str(person_id),params=params,headers=header)\n",
    "person_detail = resp.json()\n",
    "print(person_id)\n",
    "print(person_detail.get('name'),\"-\",person_detail.get('place_of_birth'))"
   ]
  },
  {
   "cell_type": "markdown",
   "id": "a9242116",
   "metadata": {},
   "source": [
    "### Fetch the Instagram and Twitter handle of Indian Actress \"Alia Bhatt\" from the TMDb API."
   ]
  },
  {
   "cell_type": "code",
   "execution_count": 180,
   "id": "0b135ec5",
   "metadata": {},
   "outputs": [
    {
     "name": "stdout",
     "output_type": "stream",
     "text": [
      "aliaabhatt Aliaa08\n"
     ]
    }
   ],
   "source": [
    "import requests \n",
    "api_key = '8248d1dcf0b2a70ee482f3aa969aa1fd'\n",
    "header = {'Accept':'application/json'}\n",
    "params = {'api_key':api_key , 'query':'Alia Bhatt'}\n",
    "api_url ='https://api.themoviedb.org/3/search/person'\n",
    "response = requests.get(api_url ,headers = header , params = params)\n",
    "py_res = response.json()\n",
    "Alia_Bhatt_Id = py_res['results'][0]['id']\n",
    "external_id_url = 'https://api.themoviedb.org/3/person/'+ str(Alia_Bhatt_Id)+'/external_ids'\n",
    "Alia_Bhatt_Social = requests.get(external_id_url,params=params,headers=header)\n",
    "Alia_Bhatt_Py = Alia_Bhatt_Social.json()\n",
    "print(Alia_Bhatt_Py['instagram_id'],Alia_Bhatt_Py['twitter_id'])"
   ]
  },
  {
   "cell_type": "markdown",
   "id": "bd3ab607",
   "metadata": {},
   "source": [
    "### Fetch the names of the character played by Tom Cruise in the movies:\n",
    "##### Top Gun\n",
    "##### Mission: Impossible - Fallout\n",
    "##### Minority Report\n",
    "##### Edge of Tomorrow"
   ]
  },
  {
   "cell_type": "code",
   "execution_count": 226,
   "id": "90ccf382",
   "metadata": {},
   "outputs": [
    {
     "name": "stdout",
     "output_type": "stream",
     "text": [
      "Lt. Pete 'Maverick' Mitchell\n",
      "Ethan Hunt\n",
      "Chief John Anderton\n",
      "Maj. William 'Bill' Cage\n"
     ]
    }
   ],
   "source": [
    "import requests \n",
    "api_key = '8248d1dcf0b2a70ee482f3aa969aa1fd'\n",
    "header = {'Accept':'application/json'}\n",
    "params = {'api_key':api_key , 'query':'Tom Cruise'}\n",
    "api_url ='https://api.themoviedb.org/3/search/person'\n",
    "response = requests.get(api_url ,headers = header , params = params)\n",
    "py_response = response.json()\n",
    "Tom_Cruise_id = py_response['results'][0]['id']\n",
    "credit_url ='https://api.themoviedb.org/3/person/'+str(Tom_Cruise_id)+'/movie_credits'\n",
    "Tom_Cruise_movies = requests.get(credit_url,headers = header , params = params)\n",
    "tom_movies_py = Tom_Cruise_movies.json()\n",
    "for i in tom_movies_py['cast']:\n",
    "    if (i['title'])==\"Top Gun\":\n",
    "        print(i['character'])\n",
    "for i in tom_movies_py['cast']:        \n",
    "    if (i['title'])==\"Mission: Impossible - Fallout\":\n",
    "        print(i['character'])\n",
    "for i in tom_movies_py['cast']:        \n",
    "    if (i['title'])==\"Minority Report\":\n",
    "        print(i['character'])\n",
    "for i in tom_movies_py['cast']:        \n",
    "    if (i['title'])==\"Edge of Tomorrow\":\n",
    "        print(i['character'])"
   ]
  },
  {
   "cell_type": "markdown",
   "id": "52d1d4eb",
   "metadata": {},
   "source": [
    "### Did James McAvoy play a role in the movie Deadpool 2. Print Yes or No."
   ]
  },
  {
   "cell_type": "code",
   "execution_count": 248,
   "id": "0d68be9a",
   "metadata": {},
   "outputs": [
    {
     "name": "stdout",
     "output_type": "stream",
     "text": [
      "Yes\n"
     ]
    }
   ],
   "source": [
    "import requests \n",
    "api_key = '8248d1dcf0b2a70ee482f3aa969aa1fd'\n",
    "header = {'Accept':'application/json'}\n",
    "params = {'api_key':api_key , 'query':'James McAvoy'}\n",
    "api_url ='https://api.themoviedb.org/3/search/person'\n",
    "response = requests.get(api_url ,headers = header , params = params)\n",
    "py_response = response.json()\n",
    "James_McAvoy_id = py_response['results'][0]['id']\n",
    "credit_url ='https://api.themoviedb.org/3/person/'+str(James_McAvoy_id)+'/movie_credits'\n",
    "James_McAvoy_movies = requests.get(credit_url,headers = header , params = params)\n",
    "James_McAvoy_py = James_McAvoy_movies.json()\n",
    "for i in James_McAvoy_py['cast']:\n",
    "    if (i['title'])==\"Deadpool 2\":\n",
    "        print(\"Yes\")"
   ]
  },
  {
   "cell_type": "markdown",
   "id": "ff69f24f",
   "metadata": {},
   "source": [
    "### Using the result obtained in previous question, find out if James McAvoy was credited for his role in movie Deadpool 2. Print Yes or No."
   ]
  },
  {
   "cell_type": "code",
   "execution_count": 292,
   "id": "87852c39",
   "metadata": {},
   "outputs": [
    {
     "name": "stdout",
     "output_type": "stream",
     "text": [
      "No\n"
     ]
    }
   ],
   "source": [
    "import requests \n",
    "api_key = '8248d1dcf0b2a70ee482f3aa969aa1fd'\n",
    "header = {'Accept':'application/json'}\n",
    "params = {'api_key':api_key , 'query':'Deadpool 2'}\n",
    "api_url ='https://api.themoviedb.org/3/search/movie'\n",
    "response = requests.get(api_url ,headers = header , params = params)\n",
    "py_response = response.json()\n",
    "for i in py_response['results']:\n",
    "    if (i['original_title'])==\"Deadpool 2\":\n",
    "        movie_id = i['id']\n",
    "params2 = {'api_key':api_key }\n",
    "movie_credit_url ='https://api.themoviedb.org/3/movie/'+str(movie_id)+'/credits'\n",
    "deadpool_2 = requests.get(movie_credit_url,headers = header , params = params2)\n",
    "deadpool_2_py = deadpool_2.json()\n",
    "Yes=0\n",
    "No=0\n",
    "for i in range(0,len(deadpool_2_py['cast'])):\n",
    "    if deadpool_2_py['cast'][i]['name']==\"James McAvoy\" and \"uncredited\" in deadpool_2_py['cast'][i]['character']:\n",
    "        No=1\n",
    "if No>Yes:\n",
    "    print(\"No\")\n",
    "else:\n",
    "    print(\"Yes\")\n",
    "    "
   ]
  },
  {
   "cell_type": "markdown",
   "id": "eb4a2be6",
   "metadata": {},
   "source": [
    "### Fetch the overview of the TV Show \"FRIENDS\" using TMDb API"
   ]
  },
  {
   "cell_type": "code",
   "execution_count": 310,
   "id": "82a62f05",
   "metadata": {},
   "outputs": [
    {
     "name": "stdout",
     "output_type": "stream",
     "text": [
      "Six young people from New York City, on their own and struggling to survive in the real world, find the companionship, comfort and support they get from each other to be the perfect antidote to the pressures of life.\n"
     ]
    }
   ],
   "source": [
    "import requests \n",
    "api_key = '8248d1dcf0b2a70ee482f3aa969aa1fd'\n",
    "header = {'Accept':'application/json'}\n",
    "params = {'api_key':api_key , 'query':'FRIENDS'}\n",
    "api_url ='https://api.themoviedb.org/3/search/tv'\n",
    "response = requests.get(api_url ,headers = header , params = params)\n",
    "py_response = response.json()\n",
    "for i in (py_response['results']):\n",
    "    if i['original_name']==\"Friends\":\n",
    "        print(i['overview'])\n"
   ]
  },
  {
   "cell_type": "markdown",
   "id": "db2b790c",
   "metadata": {},
   "source": [
    "### Fetch the name and air date of S06E05 of the TV Show 'The Big Bang Theory' from TMDb API."
   ]
  },
  {
   "cell_type": "code",
   "execution_count": 341,
   "id": "9d478a91",
   "metadata": {},
   "outputs": [
    {
     "name": "stdout",
     "output_type": "stream",
     "text": [
      "The Holographic Excitation - 2012-10-25\n"
     ]
    }
   ],
   "source": [
    "import requests \n",
    "api_key = '8248d1dcf0b2a70ee482f3aa969aa1fd'\n",
    "header = {'Accept':'application/json'}\n",
    "params = {'api_key':api_key , 'query':'The Big Bang Theory'}\n",
    "api_url ='https://api.themoviedb.org/3/search/tv'\n",
    "response = requests.get(api_url ,headers = header , params = params)\n",
    "py_response = response.json()\n",
    "Big_bang_id = py_response['results'][0]['id']\n",
    "params2 = {'api_key':api_key}\n",
    "big_bang_url ='https://api.themoviedb.org/3/tv/'+str(Big_bang_id)+'/season/'+str(6)\n",
    "bigbang_response = requests.get(big_bang_url,params=params2,headers=header)\n",
    "bigbang_response_py =bigbang_response.json()\n",
    "\n",
    "for i in bigbang_response_py['episodes']:\n",
    "    if i['episode_number']==5:\n",
    "        print(i['name'],\"-\",i['air_date'])"
   ]
  },
  {
   "cell_type": "markdown",
   "id": "3f19c2ac",
   "metadata": {},
   "source": [
    "### Fetch the trending TV Shows for the week from the TMDb API and print the taglines of the top 5 shows. If there is no tagline, print 'Empty' instead"
   ]
  },
  {
   "cell_type": "code",
   "execution_count": 381,
   "id": "8003fa06",
   "metadata": {},
   "outputs": [
    {
     "name": "stdout",
     "output_type": "stream",
     "text": [
      "Empty\n",
      "The next great adventure begins.\n",
      "Their final fate.\n",
      "Empty\n",
      "What is lost will be found.\n"
     ]
    }
   ],
   "source": [
    "import requests \n",
    "api_key = '8248d1dcf0b2a70ee482f3aa969aa1fd'\n",
    "header = {'Accept':'application/json'}\n",
    "params = {'api_key':api_key}\n",
    "trending_url ='https://api.themoviedb.org/3/trending/tv/week'\n",
    "response = requests.get(trending_url ,headers = header , params = params)\n",
    "py_response = response.json()\n",
    "top5_id=[]\n",
    "for i in py_response['results'][0:5]:\n",
    "    top5_id.append(i['id'])\n",
    "tv_details_url ='https://api.themoviedb.org/3/tv/'\n",
    "for i in range(0,len(top5_id)):\n",
    "    top5_shows_resp= requests.get(tv_details_url+str(top5_id[i]),headers = header , params = params)\n",
    "    py_top5 = top5_shows_resp.json()\n",
    "    if len(py_top5['tagline'])==0:\n",
    "        print(\"Empty\")\n",
    "    else:\n",
    "        print(py_top5['tagline'])"
   ]
  },
  {
   "cell_type": "markdown",
   "id": "f24687e5",
   "metadata": {},
   "source": [
    "### Print the names of all the TV shows to be aired today whose original language is english."
   ]
  },
  {
   "cell_type": "code",
   "execution_count": 438,
   "id": "931d0b76",
   "metadata": {},
   "outputs": [
    {
     "name": "stdout",
     "output_type": "stream",
     "text": [
      "Strictly Come Dancing: It Takes Two\n",
      "Bhagya Lakshmi\n",
      "Faltu\n",
      "¿Cómo se llama esta relación?\n",
      "Cuomo\n",
      "CNN This Morning\n",
      "Doctors\n",
      "PBS NewsHour\n",
      "Richard Osman's House of Games\n",
      "LIVE with Kelly and Ryan\n",
      "Hollyoaks\n",
      "General Hospital\n",
      "Days of Our Lives\n",
      "PAW Patrol\n",
      "The Bold and the Beautiful\n",
      "Tamron Hall\n",
      "Shantaram\n",
      "Access Hollywood\n",
      "Sherri\n",
      "Dr. Phil\n",
      "The View\n",
      "Slow Horses\n",
      "The Kelly Clarkson Show\n",
      "The Graham Norton Show\n",
      "Let's Make a Deal\n",
      "Coronation Street\n",
      "EastEnders\n",
      "Alex Wagner Tonight\n",
      "Ridiculousness\n",
      "Gold Rush\n",
      "The Young and the Restless\n",
      "Diners, Drive-Ins and Dives\n",
      "Marvel's Spidey and His Amazing Friends\n",
      "Young Rock\n",
      "Paradise PD\n",
      "Good Mythical Morning\n",
      "Transplant\n",
      "The ReidOut\n",
      "The Traitors\n",
      "QI\n",
      "Jeopardy!\n",
      "All Elite Wrestling: Rampage\n",
      "Gardening Australia\n",
      "Rachael Ray\n",
      "Canada's Drag Race: Canada vs The World\n",
      "The Drew Barrymore Show\n",
      "Tug of Words\n",
      "Emmerdale\n",
      "The UnXplained\n",
      "Love After Lockup\n",
      "Rabb Se Hai Dua\n",
      "My Lottery Dream Home\n",
      "The Recruit\n",
      "MotorWeek\n",
      "We're Here\n",
      "Destination Fear\n",
      "The Proof Is Out There\n",
      "Urban Legend\n",
      "Off the Record\n",
      "On Patrol: Live\n",
      "Kupu Malam\n",
      "Michael Fassbender: Road to Le Mans\n",
      "The Amber Ruffin Show\n",
      "Washington Week\n",
      "Far from Home\n",
      "Mystery Science Theater 3000\n",
      "WWE NXT: Level Up\n",
      "America Says\n",
      "On Patrol: First Shift\n",
      "Lopez vs. Lopez\n",
      "Cook at all Costs\n",
      "Live From My Den\n",
      "The Wingfeather Saga\n",
      "Car Pound Cops: Give Me My Car Back!\n",
      "NJPW STRONG\n",
      "Storefront Stories\n",
      "Beast of Bangalore: Indian Predator\n",
      "The Proof Is Out There: Bermuda Triangle Edition\n",
      "Dance Monsters\n",
      "WWE SmackDown\n",
      "Gold Rush: White Water\n",
      "Firing Line with Margaret Hoover\n",
      "From the Source\n",
      "Ranch to Table\n",
      "Love During Lockup\n",
      "Judy Justice\n",
      "Battle of the Bling\n",
      "Kirstie's Handmade Christmas\n",
      "Gardeners' World\n",
      "Access Daily\n",
      "四星球「徳島ジッターバグ」DOCUMENTARY\n",
      "CBS Mornings\n",
      "Spice of Life med Stian Blipp\n",
      "Sex Diaries\n"
     ]
    }
   ],
   "source": [
    "import requests \n",
    "api_key = '8248d1dcf0b2a70ee482f3aa969aa1fd'\n",
    "header = {'Accept':'application/json'}\n",
    "params = {'api_key':api_key}\n",
    "tv_shows_url ='https://api.themoviedb.org/3/tv/airing_today'\n",
    "response = requests.get(tv_shows_url,headers = header , params = params)\n",
    "response_py = response.json()\n",
    "total_pages = response_py['total_pages']\n",
    "for i in range(1,total_pages+1):\n",
    "    params2 = {'api_key':api_key,'page':i,'language':\"en\"}\n",
    "    data = requests.get(tv_shows_url,headers = header , params = params2)\n",
    "    data_py = data.json()\n",
    "    for i in data_py['results']:\n",
    "        if (i.get('original_language'))==\"en\":\n",
    "            print(i.get('name'))\n",
    "    "
   ]
  },
  {
   "cell_type": "markdown",
   "id": "5dd4e560",
   "metadata": {},
   "source": [
    "### Count the number of males and females in the cast of \"Money Heist\" using the TMDb API."
   ]
  },
  {
   "cell_type": "code",
   "execution_count": 478,
   "id": "c5693872",
   "metadata": {},
   "outputs": [
    {
     "name": "stdout",
     "output_type": "stream",
     "text": [
      "10 5\n"
     ]
    }
   ],
   "source": [
    "import requests \n",
    "api_key = '8248d1dcf0b2a70ee482f3aa969aa1fd'\n",
    "header = {'Accept':'application/json'}\n",
    "params = {'api_key':api_key,'query':'Money Heist'}\n",
    "search_movie_url ='https://api.themoviedb.org/3/search/tv'\n",
    "response = requests.get(search_movie_url,headers = header , params = params)\n",
    "response_py = response.json()\n",
    "for i in response_py['results']:\n",
    "    if i['name']==\"Money Heist\":\n",
    "        tv_show_id = i['id']\n",
    "tv_credit_url = 'https://api.themoviedb.org/3/tv/'+str(tv_show_id)+'/credits'\n",
    "params2 = {'api_key':api_key}\n",
    "tv_show_details = requests.get(tv_credit_url,headers = header , params = params2)\n",
    "tv_show_details_py = tv_show_details.json()\n",
    "female =0\n",
    "male=0\n",
    "for i in tv_show_details_py['cast']:\n",
    "    if i.get('gender')==1:\n",
    "        female+=1\n",
    "    else:\n",
    "        male+=1\n",
    "print(male,female)"
   ]
  }
 ],
 "metadata": {
  "kernelspec": {
   "display_name": "Python 3 (ipykernel)",
   "language": "python",
   "name": "python3"
  },
  "language_info": {
   "codemirror_mode": {
    "name": "ipython",
    "version": 3
   },
   "file_extension": ".py",
   "mimetype": "text/x-python",
   "name": "python",
   "nbconvert_exporter": "python",
   "pygments_lexer": "ipython3",
   "version": "3.9.12"
  }
 },
 "nbformat": 4,
 "nbformat_minor": 5
}
